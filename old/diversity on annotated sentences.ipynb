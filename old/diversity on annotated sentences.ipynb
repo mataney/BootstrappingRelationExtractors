{
 "cells": [
  {
   "cell_type": "code",
   "execution_count": null,
   "metadata": {},
   "outputs": [],
   "source": [
    "relation_id = \"per:religion\"\n",
    "# relation_id = \"per:city_of_birth\"\n",
    "# relation_id = \"per:country_of_birth\""
   ]
  },
  {
   "cell_type": "code",
   "execution_count": null,
   "metadata": {},
   "outputs": [],
   "source": [
    "from spike.pattern_generation.utils import GenerationFromSamples\n",
    "from spike.generation.sample_annotator import SampleStringAnnotator\n",
    "from spike.rest.definitions import Relation\n",
    "\n",
    "import numpy as np\n",
    "import matplotlib.pyplot as plt"
   ]
  },
  {
   "cell_type": "code",
   "execution_count": null,
   "metadata": {},
   "outputs": [],
   "source": [
    "from utils import read_file\n",
    "triggers = read_file(\"../datasets/trigger_lists/SF_Resources/SF_Resources/trigger_dict_en/per_religion.xml\", remove_duplicates=True)"
   ]
  },
  {
   "cell_type": "code",
   "execution_count": null,
   "metadata": {},
   "outputs": [],
   "source": [
    "file_path = \"/Users/matane/matan/dev/datasets/generation_outputs/religion/annotated_filtered_ents_filtered_triggers_Mother-Teresa,-a-devoted-Catholic.txt\"\n",
    "# file_path = \"/Users/matane/matan/dev/datasets/generation_outputs/country_of_birth/filtered_ents_filtered_triggers_Adele_was_born_in_England.txt\"\n",
    "\n",
    "with open(file_path) as f:\n",
    "    text = f.read()"
   ]
  },
  {
   "cell_type": "code",
   "execution_count": null,
   "metadata": {},
   "outputs": [],
   "source": [
    "relation = Relation.fetch(id=relation_id)\n",
    "\n",
    "ann_samples = []\n",
    "for i, t in enumerate(text.split('\\n')):\n",
    "    if \"[s\" not in t:\n",
    "        continue\n",
    "    try:\n",
    "        ann_sample = SampleStringAnnotator.annotate_sample_string(t)\n",
    "        ann_sample.update_relation_data(relation)\n",
    "        ann_samples.append(ann_sample)\n",
    "    except:\n",
    "        print(f\"Failed on line {i}. Breaking\")\n",
    "        break"
   ]
  },
  {
   "cell_type": "code",
   "execution_count": null,
   "metadata": {
    "scrolled": true
   },
   "outputs": [],
   "source": [
    "pattern_dict = GenerationFromSamples.gen_pattern_dict(ann_samples, triggers)"
   ]
  },
  {
   "cell_type": "code",
   "execution_count": null,
   "metadata": {},
   "outputs": [],
   "source": [
    "out_patterns, out_simple_patterns, out_counts = GenerationFromSamples.prepare_patterns_for_display(pattern_dict)"
   ]
  },
  {
   "cell_type": "code",
   "execution_count": null,
   "metadata": {},
   "outputs": [],
   "source": [
    "plt.bar(range(len(out_counts)), out_counts)\n",
    "plt.title(\"Diversity\")\n",
    "plt.show()"
   ]
  },
  {
   "cell_type": "code",
   "execution_count": null,
   "metadata": {},
   "outputs": [],
   "source": [
    "idx=0"
   ]
  },
  {
   "cell_type": "code",
   "execution_count": null,
   "metadata": {},
   "outputs": [],
   "source": [
    "print(idx)\n",
    "print(out_patterns[idx])\n",
    "print(out_simple_patterns[idx])"
   ]
  },
  {
   "cell_type": "code",
   "execution_count": null,
   "metadata": {},
   "outputs": [],
   "source": [
    "sum(out_counts)"
   ]
  },
  {
   "cell_type": "code",
   "execution_count": null,
   "metadata": {},
   "outputs": [],
   "source": [
    "import re\n",
    "text = \"<sample>U.S. President <s>Barack Obama</s> was <t>born</t> in <o>Honolulu</o> on Tuesday.</sample>\"\n"
   ]
  },
  {
   "cell_type": "code",
   "execution_count": null,
   "metadata": {},
   "outputs": [],
   "source": [
    "import re\n",
    "def xml_to_simple(text):\n",
    "    text = re.sub(\"<sample>\", \"\", text)\n",
    "    text = re.sub(\"</sample>\", \"\", text)\n",
    "    text = re.sub(\"<s>\", \"[s \", text)\n",
    "    text = re.sub(\"<t>\", \"[t \", text)\n",
    "    text = re.sub(\"<o>\", \"[o \", text)\n",
    "    text = re.sub(\"</s>\", \"]\", text)\n",
    "    text = re.sub(\"</t>\", \"]\", text)\n",
    "    text = re.sub(\"</o>\", \"]\", text)\n",
    "    return text\n",
    "\n",
    "import re\n",
    "def xml_to_no_annotations(text):\n",
    "    text = re.sub(\"<sample>\", \"\", text)\n",
    "    text = re.sub(\"</sample>\", \"\", text)\n",
    "    text = re.sub(\"<s>\", \"\", text)\n",
    "    text = re.sub(\"<t>\", \"\", text)\n",
    "    text = re.sub(\"<o>\", \"\", text)\n",
    "    text = re.sub(\"</s>\", \"\", text)\n",
    "    text = re.sub(\"</t>\", \"\", text)\n",
    "    text = re.sub(\"</o>\", \"\", text)\n",
    "    return text"
   ]
  },
  {
   "cell_type": "code",
   "execution_count": null,
   "metadata": {},
   "outputs": [],
   "source": [
    "for p, e in zip(out_patterns, out_simple_patterns):\n",
    "    print(f\"; {xml_to_no_annotations(e)}\")\n",
    "    print(f\"; {xml_to_simple(e)}\")\n",
    "    print(p+'\\n')"
   ]
  },
  {
   "cell_type": "code",
   "execution_count": null,
   "metadata": {},
   "outputs": [],
   "source": []
  }
 ],
 "metadata": {
  "kernelspec": {
   "display_name": "Python [conda env:spike_as_package]",
   "language": "python",
   "name": "conda-env-spike_as_package-py"
  },
  "language_info": {
   "codemirror_mode": {
    "name": "ipython",
    "version": 3
   },
   "file_extension": ".py",
   "mimetype": "text/x-python",
   "name": "python",
   "nbconvert_exporter": "python",
   "pygments_lexer": "ipython3",
   "version": "3.7.4"
  }
 },
 "nbformat": 4,
 "nbformat_minor": 2
}