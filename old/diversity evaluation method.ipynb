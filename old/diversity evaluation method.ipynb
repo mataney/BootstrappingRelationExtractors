{
 "cells": [
  {
   "cell_type": "code",
   "execution_count": 1,
   "metadata": {},
   "outputs": [],
   "source": [
    "from spike.integration.odin.annotator import OdinAnnotator\n",
    "from spike.pattern_generation.utils import GenerationFromExamples, \\\n",
    "                                              PredictedRelationProvider\n",
    "from spike.datamodel.dataset import FileBasedDataSet\n",
    "from spike.pattern_generation.gen_pattern import PatternGenerator\n",
    "from spike.pattern_generation.pattern_selectors import LabelEdgeSelector, TriggerVarNodeSelector\n",
    "\n",
    "import numpy as np\n",
    "import matplotlib.pyplot as plt"
   ]
  },
  {
   "cell_type": "code",
   "execution_count": 2,
   "metadata": {},
   "outputs": [],
   "source": [
    "triggers = {'husband', 'wedding', 'marriage', 'divorced', 'marriages', 'bride', 'ex-wife', 'ex-husband', 'married', 'widow', 'widower', 'wife', 'marry', 'divorcing', 'sweetheart', 'divorce'}\n",
    "\n",
    "with open('/Users/matane/matan/dev/datasets/generation_outputs/spouse/filtered_spouse_generation_outputs.txt', 'r') as f:\n",
    "    text = f.read()"
   ]
  },
  {
   "cell_type": "code",
   "execution_count": 3,
   "metadata": {},
   "outputs": [],
   "source": [
    "annotator = OdinAnnotator()\n",
    "relation_id = \"per:spouse\"    \n",
    "\n",
    "text = \"\"\"Kate Middleton, the former British model who is married to Prince Harry of Wales, said of their first meeting : ''It was pretty surreal''\\n\\\n",
    "It was Kate Middleton's sixth marriage to David, and she has four other children.\\n\\\n",
    "As King prepared to leave for London on a three-day British holiday, aides suggested that he and his wife, Catherine, head to the beach near Point Mugu, the British Virgin Islands, for a one-on-one with King and a\\n\\\n",
    "It was also confirmed that Prince William had been accompanied by a security detail for Prince Charles, who met his wife.\\n\\\n",
    "She will also give birth to a son, Simon, from a previous marriage to actress Susan Sarandon.\\n\\\n",
    "The couple met at Oxford University in 1957 and married less than two years later.\\n\\\n",
    "In the movie, played for audience members and celebrities by James Brown, a divorced mother of two boys with a long career behind her ( he is an actor, not a director ), the two men share custody of their son Michael, 13, and\\n\\\n",
    "The couple also have two sons, Sami and Jack, from previous marriages.\\n\\\n",
    "In 2003, Kate Middleton announced that she was splitting from her husband of 35 years, Christopher and that he would step down from his leadership post as chief operating officer of the company.\\n\\\n",
    "They have five children : Grace, from their marriage in 1996 ; Jameson, from their second marriage in 2002 ; Christopher, in 2004 ; Jake, from their third marriage and a daughter, Hannah Callaghan, from their fourth ; and two grandchildren.\"\"\"\n",
    "\n",
    "text = \"Kate Middleton is walking down the street\\n\"+text\n",
    "\n",
    "documents = []\n",
    "for t in text.split('\\n'):\n",
    "    annotated = annotator.annotate_text(t)    \n",
    "    documents.append(annotated)\n"
   ]
  },
  {
   "cell_type": "code",
   "execution_count": 4,
   "metadata": {},
   "outputs": [],
   "source": [
    "always_process = True\n",
    "\n",
    "def exactly_two_persons(sent):\n",
    "    return [s.label for s in sent.spans['entities']].count('PERSON') == 2\n",
    "\n",
    "docs_and_sents = []\n",
    "for d in documents:\n",
    "    for s in d.sentences:\n",
    "        if always_process or exactly_two_persons(s):\n",
    "            docs_and_sents.append((d, s))"
   ]
  },
  {
   "cell_type": "code",
   "execution_count": 5,
   "metadata": {},
   "outputs": [
    {
     "name": "stdout",
     "output_type": "stream",
     "text": [
      "> /Users/matane/matan/dev/spike/server/spike/pattern_generation/utils.py(138)gen_pattern_to_examples_dict()\n",
      "-> for sample, rel in GenerationFromExamples.sentence_to_annotated_samples(\n",
      "(Pdb) sent\n",
      "Sentence(words=['Kate', 'Middleton', 'is', 'walking', 'down', 'the', 'street'], document_start_char_offsets=[0, 5, 15, 18, 26, 31, 35], document_end_char_offsets=[4, 14, 17, 25, 30, 34, 41], labels={'lemmas': ['Kate', 'Middleton', 'be', 'walk', 'down', 'the', 'street'], 'tags': ['NNP', 'NNP', 'VBZ', 'VBG', 'RP', 'DT', 'NN']}, spans={'entities': [LabeledSpan(first=0, last=1, label='PERSON')], 'chunks': [LabeledSpan(first=0, last=1, label='NP'), LabeledSpan(first=2, last=3, label='VP'), LabeledSpan(first=4, last=4, label='PRT'), LabeledSpan(first=5, last=6, label='NP')]}, graphs={'universal-enhanced': Graph(roots=[Span(first=3, last=3)], edges=[Edge(source=Span(first=1, last=1), target=Span(first=0, last=0), label='compound'), Edge(source=Span(first=3, last=3), target=Span(first=1, last=1), label='nsubj'), Edge(source=Span(first=3, last=3), target=Span(first=2, last=2), label='aux'), Edge(source=Span(first=3, last=3), target=Span(first=4, last=4), label='compound:prt'), Edge(source=Span(first=3, last=3), target=Span(first=6, last=6), label='dobj'), Edge(source=Span(first=6, last=6), target=Span(first=5, last=5), label='det')]), 'universal-basic': Graph(roots=[Span(first=3, last=3)], edges=[Edge(source=Span(first=1, last=1), target=Span(first=0, last=0), label='compound'), Edge(source=Span(first=3, last=3), target=Span(first=1, last=1), label='nsubj'), Edge(source=Span(first=3, last=3), target=Span(first=2, last=2), label='aux'), Edge(source=Span(first=3, last=3), target=Span(first=4, last=4), label='compound:prt'), Edge(source=Span(first=3, last=3), target=Span(first=6, last=6), label='dobj'), Edge(source=Span(first=6, last=6), target=Span(first=5, last=5), label='det')])}, relations={}, events=[], source=SentenceSource(filename='e8e77c39-e6aa-4731-8939-1b5206c520d0', offset=0))\n",
      "(Pdb) c\n",
      "> /Users/matane/matan/dev/spike/server/spike/pattern_generation/utils.py(203)sentence_to_annotated_samples()\n",
      "-> for rel in relation_provider.provide(sent, relation):\n",
      "(Pdb) sent\n",
      "Sentence(words=['Kate', 'Middleton', 'is', 'walking', 'down', 'the', 'street'], document_start_char_offsets=[0, 5, 15, 18, 26, 31, 35], document_end_char_offsets=[4, 14, 17, 25, 30, 34, 41], labels={'lemmas': ['Kate', 'Middleton', 'be', 'walk', 'down', 'the', 'street'], 'tags': ['NNP', 'NNP', 'VBZ', 'VBG', 'RP', 'DT', 'NN']}, spans={'entities': [LabeledSpan(first=0, last=1, label='PERSON')], 'chunks': [LabeledSpan(first=0, last=1, label='NP'), LabeledSpan(first=2, last=3, label='VP'), LabeledSpan(first=4, last=4, label='PRT'), LabeledSpan(first=5, last=6, label='NP')]}, graphs={'universal-enhanced': Graph(roots=[Span(first=3, last=3)], edges=[Edge(source=Span(first=1, last=1), target=Span(first=0, last=0), label='compound'), Edge(source=Span(first=3, last=3), target=Span(first=1, last=1), label='nsubj'), Edge(source=Span(first=3, last=3), target=Span(first=2, last=2), label='aux'), Edge(source=Span(first=3, last=3), target=Span(first=4, last=4), label='compound:prt'), Edge(source=Span(first=3, last=3), target=Span(first=6, last=6), label='dobj'), Edge(source=Span(first=6, last=6), target=Span(first=5, last=5), label='det')]), 'universal-basic': Graph(roots=[Span(first=3, last=3)], edges=[Edge(source=Span(first=1, last=1), target=Span(first=0, last=0), label='compound'), Edge(source=Span(first=3, last=3), target=Span(first=1, last=1), label='nsubj'), Edge(source=Span(first=3, last=3), target=Span(first=2, last=2), label='aux'), Edge(source=Span(first=3, last=3), target=Span(first=4, last=4), label='compound:prt'), Edge(source=Span(first=3, last=3), target=Span(first=6, last=6), label='dobj'), Edge(source=Span(first=6, last=6), target=Span(first=5, last=5), label='det')])}, relations={}, events=[], source=SentenceSource(filename='e8e77c39-e6aa-4731-8939-1b5206c520d0', offset=0))\n",
      "(Pdb) l\n",
      "198  \t\n",
      "199  \t        annotated_samples = []\n",
      "200  \t\n",
      "201  \t        # iterate over the relations mentions in the sentence\n",
      "202  \t        import pdb; pdb.set_trace()\n",
      "203  ->\t        for rel in relation_provider.provide(sent, relation):\n",
      "204  \t            # identify subj, obj and trigger offsets for this relation mention.\n",
      "205  \t            subj_type = relation.subject_entity_type\n",
      "206  \t            obj_type = relation.object_entity_type\n",
      "207  \t            for (\n",
      "208  \t                subj_start,\n",
      "(Pdb) n\n",
      "Internal StopIteration\n",
      "> /Users/matane/matan/dev/spike/server/spike/pattern_generation/utils.py(203)sentence_to_annotated_samples()\n",
      "-> for rel in relation_provider.provide(sent, relation):\n",
      "(Pdb) n\n",
      "> /Users/matane/matan/dev/spike/server/spike/pattern_generation/utils.py(249)sentence_to_annotated_samples()\n",
      "-> return annotated_samples\n",
      "(Pdb) l\n",
      "244  \t                            dg,\n",
      "245  \t                        ),\n",
      "246  \t                        rel,\n",
      "247  \t                    )\n",
      "248  \t                )\n",
      "249  ->\t        return annotated_samples\n",
      "250  \t\n",
      "251  \t    @staticmethod\n",
      "252  \t    def get_relation_mention_elements(\n",
      "253  \t        sent: Sentence, rel: BinaryRelation, triggers: List[str]\n",
      "254  \t    ) -> Iterator[Tuple[int, int, int, int, int, int]]:\n",
      "(Pdb) sent\n",
      "Sentence(words=['Kate', 'Middleton', 'is', 'walking', 'down', 'the', 'street'], document_start_char_offsets=[0, 5, 15, 18, 26, 31, 35], document_end_char_offsets=[4, 14, 17, 25, 30, 34, 41], labels={'lemmas': ['Kate', 'Middleton', 'be', 'walk', 'down', 'the', 'street'], 'tags': ['NNP', 'NNP', 'VBZ', 'VBG', 'RP', 'DT', 'NN']}, spans={'entities': [LabeledSpan(first=0, last=1, label='PERSON')], 'chunks': [LabeledSpan(first=0, last=1, label='NP'), LabeledSpan(first=2, last=3, label='VP'), LabeledSpan(first=4, last=4, label='PRT'), LabeledSpan(first=5, last=6, label='NP')]}, graphs={'universal-enhanced': Graph(roots=[Span(first=3, last=3)], edges=[Edge(source=Span(first=1, last=1), target=Span(first=0, last=0), label='compound'), Edge(source=Span(first=3, last=3), target=Span(first=1, last=1), label='nsubj'), Edge(source=Span(first=3, last=3), target=Span(first=2, last=2), label='aux'), Edge(source=Span(first=3, last=3), target=Span(first=4, last=4), label='compound:prt'), Edge(source=Span(first=3, last=3), target=Span(first=6, last=6), label='dobj'), Edge(source=Span(first=6, last=6), target=Span(first=5, last=5), label='det')]), 'universal-basic': Graph(roots=[Span(first=3, last=3)], edges=[Edge(source=Span(first=1, last=1), target=Span(first=0, last=0), label='compound'), Edge(source=Span(first=3, last=3), target=Span(first=1, last=1), label='nsubj'), Edge(source=Span(first=3, last=3), target=Span(first=2, last=2), label='aux'), Edge(source=Span(first=3, last=3), target=Span(first=4, last=4), label='compound:prt'), Edge(source=Span(first=3, last=3), target=Span(first=6, last=6), label='dobj'), Edge(source=Span(first=6, last=6), target=Span(first=5, last=5), label='det')])}, relations={}, events=[], source=SentenceSource(filename='e8e77c39-e6aa-4731-8939-1b5206c520d0', offset=0))\n",
      "(Pdb) n\n",
      "--Return--\n",
      "> /Users/matane/matan/dev/spike/server/spike/pattern_generation/utils.py(249)sentence_to_annotated_samples()->[]\n",
      "-> return annotated_samples\n",
      "(Pdb) n\n",
      "> /Users/matane/matan/dev/spike/server/spike/pattern_generation/utils.py(136)gen_pattern_to_examples_dict()\n",
      "-> for doc, sent in examples:\n",
      "(Pdb) n\n",
      "> /Users/matane/matan/dev/spike/server/spike/pattern_generation/utils.py(137)gen_pattern_to_examples_dict()\n",
      "-> import pdb; pdb.set_trace()\n",
      "(Pdb) l\n",
      "132  \t            a simplified pattern which corresponds to the advanced pattern which is the entry key.\n",
      "133  \t        \"\"\"\n",
      "134  \t\n",
      "135  \t        pattern_to_samples = defaultdict(list)\n",
      "136  \t        for doc, sent in examples:\n",
      "137  ->\t            import pdb; pdb.set_trace()\n",
      "138  \t            for sample, rel in GenerationFromExamples.sentence_to_annotated_samples(\n",
      "139  \t                doc, sent, triggers, Relation.fetch(id=relation_id), relation_provider  # pylint: disable=no-member\n",
      "140  \t            ):\n",
      "141  \t                try:\n",
      "142  \t                    pattern = pattern_generator.generate_trigger_pattern(sample)\n",
      "(Pdb) sent\n",
      "Sentence(words=['Kate', 'Middleton', ',', 'the', 'former', 'British', 'model', 'who', 'is', 'married', 'to', 'Prince', 'Harry', 'of', 'Wales', ',', 'said', 'of', 'their', 'first', 'meeting', ':', \"''\", 'It', 'was', 'pretty', 'surreal', \"''\"], document_start_char_offsets=[0, 5, 14, 16, 20, 27, 35, 41, 45, 48, 56, 59, 66, 72, 75, 80, 82, 87, 90, 96, 102, 110, 112, 114, 117, 121, 128, 135], document_end_char_offsets=[4, 14, 15, 19, 26, 34, 40, 44, 47, 55, 58, 65, 71, 74, 80, 81, 86, 89, 95, 101, 109, 111, 114, 116, 120, 127, 135, 137], labels={'lemmas': ['Kate', 'Middleton', ',', 'the', 'former', 'british', 'model', 'who', 'be', 'marry', 'to', 'Prince', 'Harry', 'of', 'Wales', ',', 'say', 'of', 'they', 'first', 'meeting', ':', \"''\", 'it', 'be', 'pretty', 'surreal', \"''\"], 'tags': ['NNP', 'NNP', ',', 'DT', 'JJ', 'JJ', 'NN', 'WP', 'VBZ', 'VBN', 'TO', 'NNP', 'NNP', 'IN', 'NNP', ',', 'VBD', 'IN', 'PRP$', 'JJ', 'NN', ':', \"''\", 'PRP', 'VBD', 'RB', 'JJ', \"''\"]}, spans={'entities': [LabeledSpan(first=0, last=1, label='PERSON'), LabeledSpan(first=5, last=5, label='NATIONALITY'), LabeledSpan(first=6, last=6, label='TITLE'), LabeledSpan(first=11, last=12, label='PERSON'), LabeledSpan(first=14, last=14, label='LOCATION'), LabeledSpan(first=19, last=19, label='ORDINAL'), Entity(first=23, last=23, label='LOCATION', source='coref')], 'chunks': [LabeledSpan(first=0, last=1, label='NP'), LabeledSpan(first=3, last=7, label='NP'), LabeledSpan(first=8, last=8, label='VP'), LabeledSpan(first=9, last=9, label='ADJP'), LabeledSpan(first=10, last=10, label='PP'), LabeledSpan(first=11, last=12, label='NP'), LabeledSpan(first=13, last=13, label='PP'), LabeledSpan(first=14, last=14, label='NP'), LabeledSpan(first=16, last=16, label='VP'), LabeledSpan(first=17, last=17, label='PP'), LabeledSpan(first=18, last=20, label='NP'), LabeledSpan(first=23, last=23, label='NP'), LabeledSpan(first=24, last=24, label='VP'), LabeledSpan(first=25, last=26, label='ADJP')]}, graphs={'universal-enhanced': Graph(roots=[Span(first=1, last=1)], edges=[Edge(source=Span(first=1, last=1), target=Span(first=0, last=0), label='compound'), Edge(source=Span(first=1, last=1), target=Span(first=6, last=6), label='appos'), Edge(source=Span(first=6, last=6), target=Span(first=3, last=3), label='det'), Edge(source=Span(first=6, last=6), target=Span(first=4, last=4), label='amod'), Edge(source=Span(first=6, last=6), target=Span(first=5, last=5), label='amod'), Edge(source=Span(first=6, last=6), target=Span(first=7, last=7), label='ref'), Edge(source=Span(first=6, last=6), target=Span(first=9, last=9), label='acl:relcl'), Edge(source=Span(first=9, last=9), target=Span(first=6, last=6), label='nsubjpass'), Edge(source=Span(first=9, last=9), target=Span(first=8, last=8), label='auxpass'), Edge(source=Span(first=9, last=9), target=Span(first=12, last=12), label='nmod_to'), Edge(source=Span(first=12, last=12), target=Span(first=10, last=10), label='case'), Edge(source=Span(first=12, last=12), target=Span(first=26, last=26), label='acl_of'), Edge(source=Span(first=12, last=12), target=Span(first=11, last=11), label='compound'), Edge(source=Span(first=16, last=16), target=Span(first=20, last=20), label='nmod_of'), Edge(source=Span(first=20, last=20), target=Span(first=17, last=17), label='case'), Edge(source=Span(first=20, last=20), target=Span(first=18, last=18), label='nmod:poss'), Edge(source=Span(first=20, last=20), target=Span(first=19, last=19), label='amod'), Edge(source=Span(first=26, last=26), target=Span(first=16, last=16), label='ccomp'), Edge(source=Span(first=26, last=26), target=Span(first=23, last=23), label='nsubj'), Edge(source=Span(first=26, last=26), target=Span(first=24, last=24), label='cop'), Edge(source=Span(first=26, last=26), target=Span(first=25, last=25), label='advmod'), Edge(source=Span(first=26, last=26), target=Span(first=13, last=13), label='mark'), Edge(source=Span(first=26, last=26), target=Span(first=14, last=14), label='nsubj')]), 'universal-basic': Graph(roots=[Span(first=1, last=1)], edges=[Edge(source=Span(first=1, last=1), target=Span(first=0, last=0), label='compound'), Edge(source=Span(first=1, last=1), target=Span(first=6, last=6), label='appos'), Edge(source=Span(first=6, last=6), target=Span(first=3, last=3), label='det'), Edge(source=Span(first=6, last=6), target=Span(first=4, last=4), label='amod'), Edge(source=Span(first=6, last=6), target=Span(first=5, last=5), label='amod'), Edge(source=Span(first=6, last=6), target=Span(first=9, last=9), label='acl:relcl'), Edge(source=Span(first=9, last=9), target=Span(first=7, last=7), label='nsubjpass'), Edge(source=Span(first=9, last=9), target=Span(first=8, last=8), label='auxpass'), Edge(source=Span(first=9, last=9), target=Span(first=12, last=12), label='nmod'), Edge(source=Span(first=12, last=12), target=Span(first=10, last=10), label='case'), Edge(source=Span(first=12, last=12), target=Span(first=26, last=26), label='acl'), Edge(source=Span(first=12, last=12), target=Span(first=11, last=11), label='compound'), Edge(source=Span(first=16, last=16), target=Span(first=20, last=20), label='nmod'), Edge(source=Span(first=20, last=20), target=Span(first=17, last=17), label='case'), Edge(source=Span(first=20, last=20), target=Span(first=18, last=18), label='nmod:poss'), Edge(source=Span(first=20, last=20), target=Span(first=19, last=19), label='amod'), Edge(source=Span(first=26, last=26), target=Span(first=16, last=16), label='ccomp'), Edge(source=Span(first=26, last=26), target=Span(first=23, last=23), label='nsubj'), Edge(source=Span(first=26, last=26), target=Span(first=24, last=24), label='cop'), Edge(source=Span(first=26, last=26), target=Span(first=25, last=25), label='advmod'), Edge(source=Span(first=26, last=26), target=Span(first=13, last=13), label='mark'), Edge(source=Span(first=26, last=26), target=Span(first=14, last=14), label='nsubj')])}, relations={}, events=[], source=SentenceSource(filename='c435e547-72f2-4e13-8af4-792df8b22916', offset=0))\n"
     ]
    },
    {
     "name": "stdout",
     "output_type": "stream",
     "text": [
      "(Pdb) exit\n"
     ]
    },
    {
     "ename": "BdbQuit",
     "evalue": "",
     "output_type": "error",
     "traceback": [
      "\u001b[0;31m---------------------------------------------------------------------------\u001b[0m",
      "\u001b[0;31mBdbQuit\u001b[0m                                   Traceback (most recent call last)",
      "\u001b[0;32m<ipython-input-5-15e41a9edfef>\u001b[0m in \u001b[0;36m<module>\u001b[0;34m\u001b[0m\n\u001b[1;32m      3\u001b[0m                                                    \u001b[0mrelation_id\u001b[0m\u001b[0;34m,\u001b[0m \u001b[0mtriggers\u001b[0m\u001b[0;34m,\u001b[0m\u001b[0;34m\u001b[0m\u001b[0;34m\u001b[0m\u001b[0m\n\u001b[1;32m      4\u001b[0m                                                    \u001b[0mpattern_generator\u001b[0m\u001b[0;34m,\u001b[0m\u001b[0;34m\u001b[0m\u001b[0;34m\u001b[0m\u001b[0m\n\u001b[0;32m----> 5\u001b[0;31m                                                    relation_provider=PredictedRelationProvider())\n\u001b[0m",
      "\u001b[0;32m~/matan/dev/spike/server/spike/pattern_generation/utils.py\u001b[0m in \u001b[0;36mgen_pattern_to_examples_dict\u001b[0;34m(examples, relation_id, triggers, pattern_generator, relation_provider)\u001b[0m\n\u001b[1;32m    135\u001b[0m         \u001b[0mpattern_to_samples\u001b[0m \u001b[0;34m=\u001b[0m \u001b[0mdefaultdict\u001b[0m\u001b[0;34m(\u001b[0m\u001b[0mlist\u001b[0m\u001b[0;34m)\u001b[0m\u001b[0;34m\u001b[0m\u001b[0;34m\u001b[0m\u001b[0m\n\u001b[1;32m    136\u001b[0m         \u001b[0;32mfor\u001b[0m \u001b[0mdoc\u001b[0m\u001b[0;34m,\u001b[0m \u001b[0msent\u001b[0m \u001b[0;32min\u001b[0m \u001b[0mexamples\u001b[0m\u001b[0;34m:\u001b[0m\u001b[0;34m\u001b[0m\u001b[0;34m\u001b[0m\u001b[0m\n\u001b[0;32m--> 137\u001b[0;31m             \u001b[0;32mimport\u001b[0m \u001b[0mpdb\u001b[0m\u001b[0;34m;\u001b[0m \u001b[0mpdb\u001b[0m\u001b[0;34m.\u001b[0m\u001b[0mset_trace\u001b[0m\u001b[0;34m(\u001b[0m\u001b[0;34m)\u001b[0m\u001b[0;34m\u001b[0m\u001b[0;34m\u001b[0m\u001b[0m\n\u001b[0m\u001b[1;32m    138\u001b[0m             for sample, rel in GenerationFromExamples.sentence_to_annotated_samples(\n\u001b[1;32m    139\u001b[0m                 \u001b[0mdoc\u001b[0m\u001b[0;34m,\u001b[0m \u001b[0msent\u001b[0m\u001b[0;34m,\u001b[0m \u001b[0mtriggers\u001b[0m\u001b[0;34m,\u001b[0m \u001b[0mRelation\u001b[0m\u001b[0;34m.\u001b[0m\u001b[0mfetch\u001b[0m\u001b[0;34m(\u001b[0m\u001b[0mid\u001b[0m\u001b[0;34m=\u001b[0m\u001b[0mrelation_id\u001b[0m\u001b[0;34m)\u001b[0m\u001b[0;34m,\u001b[0m \u001b[0mrelation_provider\u001b[0m  \u001b[0;31m# pylint: disable=no-member\u001b[0m\u001b[0;34m\u001b[0m\u001b[0;34m\u001b[0m\u001b[0m\n",
      "\u001b[0;32m~/matan/dev/spike/server/spike/pattern_generation/utils.py\u001b[0m in \u001b[0;36mgen_pattern_to_examples_dict\u001b[0;34m(examples, relation_id, triggers, pattern_generator, relation_provider)\u001b[0m\n\u001b[1;32m    135\u001b[0m         \u001b[0mpattern_to_samples\u001b[0m \u001b[0;34m=\u001b[0m \u001b[0mdefaultdict\u001b[0m\u001b[0;34m(\u001b[0m\u001b[0mlist\u001b[0m\u001b[0;34m)\u001b[0m\u001b[0;34m\u001b[0m\u001b[0;34m\u001b[0m\u001b[0m\n\u001b[1;32m    136\u001b[0m         \u001b[0;32mfor\u001b[0m \u001b[0mdoc\u001b[0m\u001b[0;34m,\u001b[0m \u001b[0msent\u001b[0m \u001b[0;32min\u001b[0m \u001b[0mexamples\u001b[0m\u001b[0;34m:\u001b[0m\u001b[0;34m\u001b[0m\u001b[0;34m\u001b[0m\u001b[0m\n\u001b[0;32m--> 137\u001b[0;31m             \u001b[0;32mimport\u001b[0m \u001b[0mpdb\u001b[0m\u001b[0;34m;\u001b[0m \u001b[0mpdb\u001b[0m\u001b[0;34m.\u001b[0m\u001b[0mset_trace\u001b[0m\u001b[0;34m(\u001b[0m\u001b[0;34m)\u001b[0m\u001b[0;34m\u001b[0m\u001b[0;34m\u001b[0m\u001b[0m\n\u001b[0m\u001b[1;32m    138\u001b[0m             for sample, rel in GenerationFromExamples.sentence_to_annotated_samples(\n\u001b[1;32m    139\u001b[0m                 \u001b[0mdoc\u001b[0m\u001b[0;34m,\u001b[0m \u001b[0msent\u001b[0m\u001b[0;34m,\u001b[0m \u001b[0mtriggers\u001b[0m\u001b[0;34m,\u001b[0m \u001b[0mRelation\u001b[0m\u001b[0;34m.\u001b[0m\u001b[0mfetch\u001b[0m\u001b[0;34m(\u001b[0m\u001b[0mid\u001b[0m\u001b[0;34m=\u001b[0m\u001b[0mrelation_id\u001b[0m\u001b[0;34m)\u001b[0m\u001b[0;34m,\u001b[0m \u001b[0mrelation_provider\u001b[0m  \u001b[0;31m# pylint: disable=no-member\u001b[0m\u001b[0;34m\u001b[0m\u001b[0;34m\u001b[0m\u001b[0m\n",
      "\u001b[0;32m~/anaconda3/envs/spike_as_package/lib/python3.7/bdb.py\u001b[0m in \u001b[0;36mtrace_dispatch\u001b[0;34m(self, frame, event, arg)\u001b[0m\n\u001b[1;32m     86\u001b[0m             \u001b[0;32mreturn\u001b[0m \u001b[0;31m# None\u001b[0m\u001b[0;34m\u001b[0m\u001b[0;34m\u001b[0m\u001b[0m\n\u001b[1;32m     87\u001b[0m         \u001b[0;32mif\u001b[0m \u001b[0mevent\u001b[0m \u001b[0;34m==\u001b[0m \u001b[0;34m'line'\u001b[0m\u001b[0;34m:\u001b[0m\u001b[0;34m\u001b[0m\u001b[0;34m\u001b[0m\u001b[0m\n\u001b[0;32m---> 88\u001b[0;31m             \u001b[0;32mreturn\u001b[0m \u001b[0mself\u001b[0m\u001b[0;34m.\u001b[0m\u001b[0mdispatch_line\u001b[0m\u001b[0;34m(\u001b[0m\u001b[0mframe\u001b[0m\u001b[0;34m)\u001b[0m\u001b[0;34m\u001b[0m\u001b[0;34m\u001b[0m\u001b[0m\n\u001b[0m\u001b[1;32m     89\u001b[0m         \u001b[0;32mif\u001b[0m \u001b[0mevent\u001b[0m \u001b[0;34m==\u001b[0m \u001b[0;34m'call'\u001b[0m\u001b[0;34m:\u001b[0m\u001b[0;34m\u001b[0m\u001b[0;34m\u001b[0m\u001b[0m\n\u001b[1;32m     90\u001b[0m             \u001b[0;32mreturn\u001b[0m \u001b[0mself\u001b[0m\u001b[0;34m.\u001b[0m\u001b[0mdispatch_call\u001b[0m\u001b[0;34m(\u001b[0m\u001b[0mframe\u001b[0m\u001b[0;34m,\u001b[0m \u001b[0marg\u001b[0m\u001b[0;34m)\u001b[0m\u001b[0;34m\u001b[0m\u001b[0;34m\u001b[0m\u001b[0m\n",
      "\u001b[0;32m~/anaconda3/envs/spike_as_package/lib/python3.7/bdb.py\u001b[0m in \u001b[0;36mdispatch_line\u001b[0;34m(self, frame)\u001b[0m\n\u001b[1;32m    111\u001b[0m         \u001b[0;32mif\u001b[0m \u001b[0mself\u001b[0m\u001b[0;34m.\u001b[0m\u001b[0mstop_here\u001b[0m\u001b[0;34m(\u001b[0m\u001b[0mframe\u001b[0m\u001b[0;34m)\u001b[0m \u001b[0;32mor\u001b[0m \u001b[0mself\u001b[0m\u001b[0;34m.\u001b[0m\u001b[0mbreak_here\u001b[0m\u001b[0;34m(\u001b[0m\u001b[0mframe\u001b[0m\u001b[0;34m)\u001b[0m\u001b[0;34m:\u001b[0m\u001b[0;34m\u001b[0m\u001b[0;34m\u001b[0m\u001b[0m\n\u001b[1;32m    112\u001b[0m             \u001b[0mself\u001b[0m\u001b[0;34m.\u001b[0m\u001b[0muser_line\u001b[0m\u001b[0;34m(\u001b[0m\u001b[0mframe\u001b[0m\u001b[0;34m)\u001b[0m\u001b[0;34m\u001b[0m\u001b[0;34m\u001b[0m\u001b[0m\n\u001b[0;32m--> 113\u001b[0;31m             \u001b[0;32mif\u001b[0m \u001b[0mself\u001b[0m\u001b[0;34m.\u001b[0m\u001b[0mquitting\u001b[0m\u001b[0;34m:\u001b[0m \u001b[0;32mraise\u001b[0m \u001b[0mBdbQuit\u001b[0m\u001b[0;34m\u001b[0m\u001b[0;34m\u001b[0m\u001b[0m\n\u001b[0m\u001b[1;32m    114\u001b[0m         \u001b[0;32mreturn\u001b[0m \u001b[0mself\u001b[0m\u001b[0;34m.\u001b[0m\u001b[0mtrace_dispatch\u001b[0m\u001b[0;34m\u001b[0m\u001b[0;34m\u001b[0m\u001b[0m\n\u001b[1;32m    115\u001b[0m \u001b[0;34m\u001b[0m\u001b[0m\n",
      "\u001b[0;31mBdbQuit\u001b[0m: "
     ]
    }
   ],
   "source": [
    "pattern_generator = PatternGenerator([TriggerVarNodeSelector(triggers)], LabelEdgeSelector(), [])\n",
    "pattern_to_examples = GenerationFromExamples.gen_pattern_to_examples_dict(docs_and_sents,\n",
    "                                                   relation_id, triggers, \n",
    "                                                   pattern_generator,\n",
    "                                                   relation_provider=PredictedRelationProvider())"
   ]
  },
  {
   "cell_type": "code",
   "execution_count": null,
   "metadata": {},
   "outputs": [],
   "source": [
    "# sorted_pattern_to_examples = sorted(pattern_to_examples.items(), key=lambda kv: len(kv[1]), reverse=True)\n",
    "out_matching_docs, out_matching_sents, out_matching_sent_extractions, \\\n",
    "                          out_patterns, out_simple_patterns, out_counts = \\\n",
    "                          GenerationFromExamples.prepare_patterns_for_display(pattern_to_examples)"
   ]
  },
  {
   "cell_type": "code",
   "execution_count": null,
   "metadata": {
    "scrolled": true
   },
   "outputs": [],
   "source": [
    "fromm = 0\n",
    "to = -1\n",
    "plt.figure(figsize=(5, 5))\n",
    "plt.bar(range(len(out_counts[fromm:to])), out_counts[fromm:to])\n",
    "plt.title(\"Diversity\")\n",
    "plt.show()"
   ]
  },
  {
   "cell_type": "code",
   "execution_count": 20,
   "metadata": {},
   "outputs": [
    {
     "name": "stdout",
     "output_type": "stream",
     "text": [
      "| trigger=[ word=/wedding|divorced|marry|married|wife|divorce|bride|sweetheart|widow|ex-wife|marriages|marriage|husband|widower|divorcing|ex-husband/ ]\n",
      "  subject:Person=<nmod_from >conj_and\n",
      "  object:Person=<nmod_from >conj_and\n",
      "They have five children : Grace , from their [t marriage] in 1996 ; [s Jameson] , from their second marriage in 2002 ; [o Christopher] , in 2004 ; Jake , from their third marriage and a daughter , Hannah Callaghan , from their fourth ; and two grandchildren .\n"
     ]
    }
   ],
   "source": [
    "idx = 0\n",
    "print(out_patterns[idx])\n",
    "print(out_simple_patterns[idx])"
   ]
  },
  {
   "cell_type": "code",
   "execution_count": 9,
   "metadata": {},
   "outputs": [
    {
     "data": {
      "text/plain": [
       "96"
      ]
     },
     "execution_count": 9,
     "metadata": {},
     "output_type": "execute_result"
    }
   ],
   "source": [
    "sum(out_counts)"
   ]
  },
  {
   "cell_type": "code",
   "execution_count": null,
   "metadata": {},
   "outputs": [],
   "source": []
  }
 ],
 "metadata": {
  "kernelspec": {
   "display_name": "Python [conda env:spike_as_package]",
   "language": "python",
   "name": "conda-env-spike_as_package-py"
  },
  "language_info": {
   "codemirror_mode": {
    "name": "ipython",
    "version": 3
   },
   "file_extension": ".py",
   "mimetype": "text/x-python",
   "name": "python",
   "nbconvert_exporter": "python",
   "pygments_lexer": "ipython3",
   "version": "3.7.4"
  }
 },
 "nbformat": 4,
 "nbformat_minor": 2
}
