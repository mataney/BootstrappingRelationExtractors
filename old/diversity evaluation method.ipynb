{
 "cells": [
  {
   "cell_type": "code",
   "execution_count": null,
   "metadata": {},
   "outputs": [],
   "source": [
    "from spike.integration.odin.annotator import OdinAnnotator\n",
    "from spike.pattern_generation.utils import GenerationFromExamples, \\\n",
    "                                              PredictedRelationProvider\n",
    "from spike.datamodel.dataset import FileBasedDataSet\n",
    "from spike.pattern_generation.gen_pattern import PatternGenerator\n",
    "from spike.pattern_generation.pattern_selectors import LabelEdgeSelector, TriggerVarNodeSelector\n",
    "\n",
    "import numpy as np\n",
    "import matplotlib.pyplot as plt"
   ]
  },
  {
   "cell_type": "code",
   "execution_count": null,
   "metadata": {},
   "outputs": [],
   "source": [
    "triggers = {'husband', 'wedding', 'marriage', 'divorced', 'marriages', 'bride', 'ex-wife', 'ex-husband', 'married', 'widow', 'widower', 'wife', 'marry', 'divorcing', 'sweetheart', 'divorce'}\n",
    "\n",
    "with open('/Users/matane/matan/dev/datasets/generation_outputs/spouse/filtered_spouse_generation_outputs.txt', 'r') as f:\n",
    "    text = f.read()"
   ]
  },
  {
   "cell_type": "code",
   "execution_count": null,
   "metadata": {},
   "outputs": [],
   "source": [
    "annotator = OdinAnnotator()\n",
    "relation_id = \"per:spouse\"    \n",
    "\n",
    "text = \"\"\"Kate Middleton, the former British model who is married to Prince Harry of Wales, said of their first meeting : ''It was pretty surreal''\\n\\\n",
    "It was Kate Middleton's sixth marriage to David, and she has four other children.\\n\\\n",
    "As King prepared to leave for London on a three-day British holiday, aides suggested that he and his wife, Catherine, head to the beach near Point Mugu, the British Virgin Islands, for a one-on-one with King and a\\n\\\n",
    "It was also confirmed that Prince William had been accompanied by a security detail for Prince Charles, who met his wife.\\n\\\n",
    "She will also give birth to a son, Simon, from a previous marriage to actress Susan Sarandon.\\n\\\n",
    "The couple met at Oxford University in 1957 and married less than two years later.\\n\\\n",
    "In the movie, played for audience members and celebrities by James Brown, a divorced mother of two boys with a long career behind her ( he is an actor, not a director ), the two men share custody of their son Michael, 13, and\\n\\\n",
    "The couple also have two sons, Sami and Jack, from previous marriages.\\n\\\n",
    "In 2003, Kate Middleton announced that she was splitting from her husband of 35 years, Christopher and that he would step down from his leadership post as chief operating officer of the company.\\n\\\n",
    "They have five children : Grace, from their marriage in 1996 ; Jameson, from their second marriage in 2002 ; Christopher, in 2004 ; Jake, from their third marriage and a daughter, Hannah Callaghan, from their fourth ; and two grandchildren.\"\"\"\n",
    "\n",
    "text = \"Kate Middleton is walking down the street\\n\"+text\n",
    "\n",
    "documents = []\n",
    "for t in text.split('\\n'):\n",
    "    annotated = annotator.annotate_text(t)    \n",
    "    documents.append(annotated)\n"
   ]
  },
  {
   "cell_type": "code",
   "execution_count": null,
   "metadata": {},
   "outputs": [],
   "source": [
    "always_process = True\n",
    "\n",
    "def exactly_two_persons(sent):\n",
    "    return [s.label for s in sent.spans['entities']].count('PERSON') == 2\n",
    "\n",
    "docs_and_sents = []\n",
    "for d in documents:\n",
    "    for s in d.sentences:\n",
    "        if always_process or exactly_two_persons(s):\n",
    "            docs_and_sents.append((d, s))"
   ]
  },
  {
   "cell_type": "code",
   "execution_count": null,
   "metadata": {},
   "outputs": [],
   "source": [
    "pattern_generator = PatternGenerator([TriggerVarNodeSelector(triggers)], LabelEdgeSelector(), [])\n",
    "pattern_to_examples = GenerationFromExamples.gen_pattern_to_examples_dict(docs_and_sents,\n",
    "                                                   relation_id, triggers, \n",
    "                                                   pattern_generator,\n",
    "                                                   relation_provider=PredictedRelationProvider())"
   ]
  },
  {
   "cell_type": "code",
   "execution_count": null,
   "metadata": {},
   "outputs": [],
   "source": [
    "# sorted_pattern_to_examples = sorted(pattern_to_examples.items(), key=lambda kv: len(kv[1]), reverse=True)\n",
    "out_matching_docs, out_matching_sents, out_matching_sent_extractions, \\\n",
    "                          out_patterns, out_simple_patterns, out_counts = \\\n",
    "                          GenerationFromExamples.prepare_patterns_for_display(pattern_to_examples)"
   ]
  },
  {
   "cell_type": "code",
   "execution_count": null,
   "metadata": {
    "scrolled": true
   },
   "outputs": [],
   "source": [
    "fromm = 0\n",
    "to = -1\n",
    "plt.figure(figsize=(5, 5))\n",
    "plt.bar(range(len(out_counts[fromm:to])), out_counts[fromm:to])\n",
    "plt.title(\"Diversity\")\n",
    "plt.show()"
   ]
  },
  {
   "cell_type": "code",
   "execution_count": null,
   "metadata": {},
   "outputs": [],
   "source": [
    "idx = 0\n",
    "print(out_patterns[idx])\n",
    "print(out_simple_patterns[idx])"
   ]
  },
  {
   "cell_type": "code",
   "execution_count": null,
   "metadata": {},
   "outputs": [],
   "source": [
    "sum(out_counts)"
   ]
  },
  {
   "cell_type": "code",
   "execution_count": null,
   "metadata": {},
   "outputs": [],
   "source": []
  }
 ],
 "metadata": {
  "kernelspec": {
   "display_name": "Python [conda env:spike_as_package]",
   "language": "python",
   "name": "conda-env-spike_as_package-py"
  },
  "language_info": {
   "codemirror_mode": {
    "name": "ipython",
    "version": 3
   },
   "file_extension": ".py",
   "mimetype": "text/x-python",
   "name": "python",
   "nbconvert_exporter": "python",
   "pygments_lexer": "ipython3",
   "version": "3.7.4"
  }
 },
 "nbformat": 4,
 "nbformat_minor": 2
}