{
 "cells": [
  {
   "cell_type": "code",
   "execution_count": 1,
   "metadata": {},
   "outputs": [],
   "source": [
    "relation_id = \"per:religion\"\n",
    "# relation_id = \"per:city_of_birth\"\n",
    "# relation_id = \"per:country_of_birth\""
   ]
  },
  {
   "cell_type": "code",
   "execution_count": 3,
   "metadata": {},
   "outputs": [
    {
     "ename": "ImportError",
     "evalue": "cannot import name 'GenerationFromSamples' from 'spike.pattern_generation.utils' (/Users/matane/matan/dev/spike/server/spike/pattern_generation/utils.py)",
     "output_type": "error",
     "traceback": [
      "\u001b[0;31m---------------------------------------------------------------------------\u001b[0m",
      "\u001b[0;31mImportError\u001b[0m                               Traceback (most recent call last)",
      "\u001b[0;32m<ipython-input-3-6833dd2f0ea1>\u001b[0m in \u001b[0;36m<module>\u001b[0;34m\u001b[0m\n\u001b[0;32m----> 1\u001b[0;31m \u001b[0;32mfrom\u001b[0m \u001b[0mspike\u001b[0m\u001b[0;34m.\u001b[0m\u001b[0mpattern_generation\u001b[0m\u001b[0;34m.\u001b[0m\u001b[0mutils\u001b[0m \u001b[0;32mimport\u001b[0m \u001b[0mGenerationFromSamples\u001b[0m\u001b[0;34m\u001b[0m\u001b[0;34m\u001b[0m\u001b[0m\n\u001b[0m\u001b[1;32m      2\u001b[0m \u001b[0;32mfrom\u001b[0m \u001b[0mspike\u001b[0m\u001b[0;34m.\u001b[0m\u001b[0mgeneration\u001b[0m\u001b[0;34m.\u001b[0m\u001b[0msample_annotator\u001b[0m \u001b[0;32mimport\u001b[0m \u001b[0mSampleStringAnnotator\u001b[0m\u001b[0;34m\u001b[0m\u001b[0;34m\u001b[0m\u001b[0m\n\u001b[1;32m      3\u001b[0m \u001b[0;32mfrom\u001b[0m \u001b[0mspike\u001b[0m\u001b[0;34m.\u001b[0m\u001b[0mrest\u001b[0m\u001b[0;34m.\u001b[0m\u001b[0mdefinitions\u001b[0m \u001b[0;32mimport\u001b[0m \u001b[0mRelation\u001b[0m\u001b[0;34m\u001b[0m\u001b[0;34m\u001b[0m\u001b[0m\n\u001b[1;32m      4\u001b[0m \u001b[0;34m\u001b[0m\u001b[0m\n\u001b[1;32m      5\u001b[0m \u001b[0;32mimport\u001b[0m \u001b[0mnumpy\u001b[0m \u001b[0;32mas\u001b[0m \u001b[0mnp\u001b[0m\u001b[0;34m\u001b[0m\u001b[0;34m\u001b[0m\u001b[0m\n",
      "\u001b[0;31mImportError\u001b[0m: cannot import name 'GenerationFromSamples' from 'spike.pattern_generation.utils' (/Users/matane/matan/dev/spike/server/spike/pattern_generation/utils.py)"
     ]
    }
   ],
   "source": [
    "from spike.pattern_generation.utils import GenerationFromSamples\n",
    "from spike.generation.sample_annotator import SampleStringAnnotator\n",
    "from spike.rest.definitions import Relation\n",
    "\n",
    "import numpy as np\n",
    "import matplotlib.pyplot as plt"
   ]
  },
  {
   "cell_type": "code",
   "execution_count": 3,
   "metadata": {},
   "outputs": [],
   "source": [
    "from utils import read_file\n",
    "triggers = read_file(\"../datasets/trigger_lists/SF_Resources/SF_Resources/trigger_dict_en/per_religion.xml\", remove_duplicates=True)"
   ]
  },
  {
   "cell_type": "code",
   "execution_count": 4,
   "metadata": {},
   "outputs": [],
   "source": [
    "file_path = \"/Users/matane/matan/dev/datasets/generation_outputs/religion/annotated_filtered_ents_filtered_triggers_Mother-Teresa,-a-devoted-Catholic.txt\"\n",
    "# file_path = \"/Users/matane/matan/dev/datasets/generation_outputs/country_of_birth/filtered_ents_filtered_triggers_Adele_was_born_in_England.txt\"\n",
    "\n",
    "with open(file_path) as f:\n",
    "    text = f.read()"
   ]
  },
  {
   "cell_type": "code",
   "execution_count": 5,
   "metadata": {},
   "outputs": [],
   "source": [
    "relation = Relation.fetch(id=relation_id)\n",
    "\n",
    "ann_samples = []\n",
    "for i, t in enumerate(text.split('\\n')):\n",
    "    if \"[s\" not in t:\n",
    "        continue\n",
    "    try:\n",
    "        ann_sample = SampleStringAnnotator.annotate_sample_string(t)\n",
    "        ann_sample.update_relation_data(relation)\n",
    "        ann_samples.append(ann_sample)\n",
    "    except:\n",
    "        print(f\"Failed on line {i}. Breaking\")\n",
    "        break"
   ]
  },
  {
   "cell_type": "code",
   "execution_count": 6,
   "metadata": {
    "scrolled": true
   },
   "outputs": [
    {
     "name": "stderr",
     "output_type": "stream",
     "text": [
      "Couldn't create pattern: The node 17 is not in the graph.\n"
     ]
    }
   ],
   "source": [
    "pattern_dict = GenerationFromSamples.gen_pattern_dict(ann_samples, triggers)"
   ]
  },
  {
   "cell_type": "code",
   "execution_count": 7,
   "metadata": {},
   "outputs": [],
   "source": [
    "out_patterns, out_simple_patterns, out_counts = GenerationFromSamples.prepare_patterns_for_display(pattern_dict)"
   ]
  },
  {
   "cell_type": "code",
   "execution_count": 8,
   "metadata": {},
   "outputs": [
    {
     "data": {
      "image/png": "[encoded data removed]",
      "text/plain": [
       "<Figure size 432x288 with 1 Axes>"
      ]
     },
     "metadata": {
      "needs_background": "light"
     },
     "output_type": "display_data"
    }
   ],
   "source": [
    "plt.bar(range(len(out_counts)), out_counts)\n",
    "plt.title(\"Diversity\")\n",
    "plt.show()"
   ]
  },
  {
   "cell_type": "code",
   "execution_count": 9,
   "metadata": {},
   "outputs": [],
   "source": [
    "idx=0"
   ]
  },
  {
   "cell_type": "code",
   "execution_count": 10,
   "metadata": {},
   "outputs": [
    {
     "name": "stdout",
     "output_type": "stream",
     "text": [
      "0\n",
      "| trigger=[ word=/reform|chapel|clergyman|president|orthodox|monastery|veteran|clergy|fan|# the following Matan added:|rev.|prophet|bishop|rabbi|sister|anglican|preacher|methodist|deity|faithful|synagogue|temple|church|mosque|sephardic|conservative|pastor|reverend|monk|secular|evangelical|served|Devout|converted|minister/ ]\n",
      "  subject:Person=<appos\n",
      "  object:Religion=>compound\n",
      "<sample><s>Jill Eckert</s>, a <o>Methodist</o> <t>minister</t>, practiced in Marblehead, Mass.</sample>\n"
     ]
    }
   ],
   "source": [
    "print(idx)\n",
    "print(out_patterns[idx])\n",
    "print(out_simple_patterns[idx])"
   ]
  },
  {
   "cell_type": "code",
   "execution_count": 11,
   "metadata": {},
   "outputs": [
    {
     "data": {
      "text/plain": [
       "24"
      ]
     },
     "execution_count": 11,
     "metadata": {},
     "output_type": "execute_result"
    }
   ],
   "source": [
    "sum(out_counts)"
   ]
  },
  {
   "cell_type": "code",
   "execution_count": 12,
   "metadata": {},
   "outputs": [],
   "source": [
    "import re\n",
    "text = \"<sample>U.S. President <s>Barack Obama</s> was <t>born</t> in <o>Honolulu</o> on Tuesday.</sample>\"\n"
   ]
  },
  {
   "cell_type": "code",
   "execution_count": 13,
   "metadata": {},
   "outputs": [],
   "source": [
    "import re\n",
    "def xml_to_simple(text):\n",
    "    text = re.sub(\"<sample>\", \"\", text)\n",
    "    text = re.sub(\"</sample>\", \"\", text)\n",
    "    text = re.sub(\"<s>\", \"[s \", text)\n",
    "    text = re.sub(\"<t>\", \"[t \", text)\n",
    "    text = re.sub(\"<o>\", \"[o \", text)\n",
    "    text = re.sub(\"</s>\", \"]\", text)\n",
    "    text = re.sub(\"</t>\", \"]\", text)\n",
    "    text = re.sub(\"</o>\", \"]\", text)\n",
    "    return text\n",
    "\n",
    "import re\n",
    "def xml_to_no_annotations(text):\n",
    "    text = re.sub(\"<sample>\", \"\", text)\n",
    "    text = re.sub(\"</sample>\", \"\", text)\n",
    "    text = re.sub(\"<s>\", \"\", text)\n",
    "    text = re.sub(\"<t>\", \"\", text)\n",
    "    text = re.sub(\"<o>\", \"\", text)\n",
    "    text = re.sub(\"</s>\", \"\", text)\n",
    "    text = re.sub(\"</t>\", \"\", text)\n",
    "    text = re.sub(\"</o>\", \"\", text)\n",
    "    return text"
   ]
  },
  {
   "cell_type": "code",
   "execution_count": 14,
   "metadata": {},
   "outputs": [
    {
     "name": "stdout",
     "output_type": "stream",
     "text": [
      "; Jill Eckert, a Methodist minister, practiced in Marblehead, Mass.\n",
      "; [s Jill Eckert], a [o Methodist] [t minister], practiced in Marblehead, Mass.\n",
      "| trigger=[ word=/reform|chapel|clergyman|president|orthodox|monastery|veteran|clergy|fan|# the following Matan added:|rev.|prophet|bishop|rabbi|sister|anglican|preacher|methodist|deity|faithful|synagogue|temple|church|mosque|sephardic|conservative|pastor|reverend|monk|secular|evangelical|served|Devout|converted|minister/ ]\n",
      "  subject:Person=<appos\n",
      "  object:Religion=>compound\n",
      "\n",
      "; Gill, an Anglican minister who founded the MBIA `s Survivors'Health Care program, lost his faith in the days before he died in 2007.\n",
      "; [s Gill], an [o Anglican] [t minister] who founded the MBIA `s Survivors'Health Care program, lost his faith in the days before he died in 2007.\n",
      "| trigger=[ word=/reform|chapel|clergyman|president|orthodox|monastery|veteran|clergy|fan|# the following Matan added:|rev.|prophet|bishop|rabbi|sister|anglican|preacher|methodist|deity|faithful|synagogue|temple|church|mosque|sephardic|conservative|pastor|reverend|monk|secular|evangelical|served|Devout|converted|minister/ ]\n",
      "  subject:Person=<appos\n",
      "  object:Religion=>amod\n",
      "\n",
      "; Stephanie Cutter, the minister of Hammonton Missionary Baptist Church in West Virginia, said a woman had told her she was dreaming about a baby.\n",
      "; [s Stephanie Cutter], the [t minister] of Hammonton [o Missionary] Baptist Church in West Virginia, said a woman had told her she was dreaming about a baby.\n",
      "| trigger=[ word=/reform|chapel|clergyman|president|orthodox|monastery|veteran|clergy|fan|# the following Matan added:|rev.|prophet|bishop|rabbi|sister|anglican|preacher|methodist|deity|faithful|synagogue|temple|church|mosque|sephardic|conservative|pastor|reverend|monk|secular|evangelical|served|Devout|converted|minister/ ]\n",
      "  subject:Person=<appos\n",
      "  object:Religion=>nmod_of >compound\n",
      "\n",
      "; Her remarks were led by the Rev. Richard Lapchick, president of the evangelical group the International Institute for Strategic Studies, a think tank based in Washington.\n",
      "; Her remarks were led by the [t Rev.] [s Richard Lapchick], president of the [o evangelical] group the International Institute for Strategic Studies, a think tank based in Washington.\n",
      "| trigger=[ word=/reform|chapel|clergyman|president|orthodox|monastery|veteran|clergy|fan|# the following Matan added:|rev.|prophet|bishop|rabbi|sister|anglican|preacher|methodist|deity|faithful|synagogue|temple|church|mosque|sephardic|conservative|pastor|reverend|monk|secular|evangelical|served|Devout|converted|minister/ ]\n",
      "  subject:Person=<compound\n",
      "  object:Religion=<compound >appos >nmod_of >amod\n",
      "\n",
      "; Kan, an agnostic and former Methodist minister who was a friend of Mother Teresa, an associate pastor of St. Anselm College\n",
      "; [s Kan], an [o agnostic] and former Methodist minister who was a friend of Mother Teresa, an associate pastor of St. Anselm College\n",
      "| subject:Person\n",
      "  object:Religion=>appos\n",
      "\n",
      "; With her fervent support of the poor and the sick, Sister Madonna Simon was regarded by Catholic fundamentalists as representing a divine threat to the church.\n",
      "; With her fervent support of the poor and the sick, [t Sister] [s Madonna Simon] was regarded by [o Catholic] fundamentalists as representing a divine threat to the church.\n",
      "| trigger=[ word=/reform|chapel|clergyman|president|orthodox|monastery|veteran|clergy|fan|# the following Matan added:|rev.|prophet|bishop|rabbi|sister|anglican|preacher|methodist|deity|faithful|synagogue|temple|church|mosque|sephardic|conservative|pastor|reverend|monk|secular|evangelical|served|Devout|converted|minister/ ]\n",
      "  subject:Person=<compound\n",
      "  object:Religion=<compound <nsubjpass >nmod_agent >compound\n",
      "\n",
      "; MARY JEMISON, Founder and President of Veterans of Foreign Wars WWII Marietta's daughter of a Methodist minister, DOUGLAS MARY JEMISON, D.A., died Tuesday of cancer at her home in Mar\n",
      "; MARY JEMISON, Founder and President of Veterans of Foreign Wars WWII Marietta's daughter of a [o Methodist] [t minister], [s DOUGLAS MARY JEMISON], D.A., died Tuesday of cancer at her home in Mar\n",
      "| trigger=[ word=/reform|chapel|clergyman|president|orthodox|monastery|veteran|clergy|fan|# the following Matan added:|rev.|prophet|bishop|rabbi|sister|anglican|preacher|methodist|deity|faithful|synagogue|temple|church|mosque|sephardic|conservative|pastor|reverend|monk|secular|evangelical|served|Devout|converted|minister/ ]\n",
      "  subject:Person=<nmod_of <dep >appos\n",
      "  object:Religion=>amod\n",
      "\n",
      "; '' This is not an act of terrorism, '' said Fr Martin Luther King Jr, President of the Southern Christian Leadership Conference, the evangelical leader who jointly organized the protests.\n",
      "; '' This is not an act of terrorism, '' said Fr [s Martin Luther King Jr], President of the Southern Christian Leadership Conference, the [o evangelical] leader who jointly organized the protests.\n",
      "| subject:Person\n",
      "  object:Religion=<dobj >dep >amod\n",
      "\n",
      "; A Western Catholic, Sister Theresa was pastor of St. Joseph Memorial Church in San Antonio and director of operations for the Department of Children and Families.\n",
      "; A Western [o Catholic], [s Sister Theresa] was pastor of St. Joseph Memorial Church in San Antonio and director of operations for the Department of Children and Families.\n",
      "| subject:Person\n",
      "  object:Religion=>compound\n",
      "\n",
      "; Among the gospel icons of the early 20th century was Madonna, a fan of secular philosophy who composed music for the popular jazz albums of the 1960s and 1970s.\n",
      "; Among the gospel icons of the early 20th century was [s Madonna], a [t fan] of [o secular] philosophy who composed music for the popular jazz albums of the 1960s and 1970s.\n",
      "| trigger=[ word=/reform|chapel|clergyman|president|orthodox|monastery|veteran|clergy|fan|# the following Matan added:|rev.|prophet|bishop|rabbi|sister|anglican|preacher|methodist|deity|faithful|synagogue|temple|church|mosque|sephardic|conservative|pastor|reverend|monk|secular|evangelical|served|Devout|converted|minister/ ]\n",
      "  subject:Person=<appos\n",
      "  object:Religion=>nmod_of >amod\n",
      "\n",
      "; The March 4 meeting took place in memory of the late Josephine Robinson Bevan, a Presbyterian minister whose youngest child, Mary Robinson, was also killed in the tsunami in 2004.\n",
      "; The March 4 meeting took place in memory of the late [s Josephine Robinson Bevan], a [o Presbyterian] minister whose youngest child, Mary Robinson, was also killed in the tsunami in 2004.\n",
      "| subject:Person\n",
      "  object:Religion=>appos >amod\n",
      "\n",
      "; He is the nephew of the late Bishop Marcel Ospel and a grandson of the late Roman Catholic leader Archbishop Marcel Ospel.\n",
      "; He is the nephew of the late Bishop Marcel Ospel and a grandson of the late Roman [o Catholic] leader [s Archbishop Marcel Ospel].\n",
      "| subject:Person\n",
      "  object:Religion=<dep >nmod_of >compound\n",
      "\n",
      "; benfica 's catholic hero The late late Elizabeth Berthold Huber, a German-born Dominican nun who later served as a Jesuit minister in South America and in the Dominican Republic, died Nov. 22 in California of\n",
      "; benfica 's [o catholic] hero The late late [s Elizabeth Berthold Huber], a German-born Dominican nun who later served as a Jesuit minister in South America and in the Dominican Republic, died Nov. 22 in California of\n",
      "| subject:Person\n",
      "  object:Religion=<dep >amod\n",
      "\n",
      "; benfica 's catholic hero The late late Elizabeth Berthold Huber, a German-born Dominican nun who later served as a Jesuit minister in South America and in the Dominican Republic, died Nov. 22 in California of\n",
      "; benfica 's catholic hero The late late [s Elizabeth Berthold Huber], a German-born Dominican nun who later [t served] as a [o Jesuit] minister in South America and in the Dominican Republic, died Nov. 22 in California of\n",
      "| trigger=[ word=/reform|chapel|clergyman|president|orthodox|monastery|veteran|clergy|fan|# the following Matan added:|rev.|prophet|bishop|rabbi|sister|anglican|preacher|methodist|deity|faithful|synagogue|temple|church|mosque|sephardic|conservative|pastor|reverend|monk|secular|evangelical|served|Devout|converted|minister/ ]\n",
      "  subject:Person=>nsubj <appos >dep\n",
      "  object:Religion=>nmod_as >amod\n",
      "\n",
      "; Hubertus Peterson, a minister, Jesuit monk and activist who founded the Missionaries of Charity, a worldwide network of alternative and working-class communities, died June 12 at a Toronto hospital of cancer, said the Rev. Hubertus Peterson,\n",
      "; [s Hubertus Peterson], a minister, [o Jesuit] [t monk] and activist who founded the Missionaries of Charity, a worldwide network of alternative and working-class communities, died June 12 at a Toronto hospital of cancer, said the Rev. Hubertus Peterson,\n",
      "| trigger=[ word=/reform|chapel|clergyman|president|orthodox|monastery|veteran|clergy|fan|# the following Matan added:|rev.|prophet|bishop|rabbi|sister|anglican|preacher|methodist|deity|faithful|synagogue|temple|church|mosque|sephardic|conservative|pastor|reverend|monk|secular|evangelical|served|Devout|converted|minister/ ]\n",
      "  subject:Person=<appos <nsubj >nsubj\n",
      "  object:Religion=>amod\n",
      "\n",
      "; The case brings to light how uncertain human rights are in the wake of the global legal action taken in June against Brazil's top Catholic bishop, Archbishop Ricardo Vilma, which accuses him of religious bigotry and child abuse.\n",
      "; The case brings to light how uncertain human rights are in the wake of the global legal action taken in June against Brazil's top [o Catholic] [t bishop], Archbishop [s Ricardo Vilma], which accuses him of religious bigotry and child abuse.\n",
      "| trigger=[ word=/reform|chapel|clergyman|president|orthodox|monastery|veteran|clergy|fan|# the following Matan added:|rev.|prophet|bishop|rabbi|sister|anglican|preacher|methodist|deity|faithful|synagogue|temple|church|mosque|sephardic|conservative|pastor|reverend|monk|secular|evangelical|served|Devout|converted|minister/ ]\n",
      "  subject:Person=>appos\n",
      "  object:Religion=>compound\n",
      "\n",
      "; On May 11, former Anglican bishop Kevin Naughton and Robinson went to India and brokered talks with spiritual leader Gyanendra Pandit, who is the spiritual leader of M. Malini Chaturvedi Trust's Matamu\n",
      "; On May 11, former [o Anglican] [t bishop] [s Kevin Naughton] and Robinson went to India and brokered talks with spiritual leader Gyanendra Pandit, who is the spiritual leader of M. Malini Chaturvedi Trust's Matamu\n",
      "| trigger=[ word=/reform|chapel|clergyman|president|orthodox|monastery|veteran|clergy|fan|# the following Matan added:|rev.|prophet|bishop|rabbi|sister|anglican|preacher|methodist|deity|faithful|synagogue|temple|church|mosque|sephardic|conservative|pastor|reverend|monk|secular|evangelical|served|Devout|converted|minister/ ]\n",
      "  subject:Person=<compound\n",
      "  object:Religion=<compound >amod\n",
      "\n",
      "; Ms. Umunna is a Methodist minister and member of the Order of St. Andrew, the largest international Franciscan order in the world.\n",
      "; [s Ms. Umunna] is a [o Methodist] [t minister] and member of the Order of St. Andrew, the largest international Franciscan order in the world.\n",
      "| trigger=[ word=/reform|chapel|clergyman|president|orthodox|monastery|veteran|clergy|fan|# the following Matan added:|rev.|prophet|bishop|rabbi|sister|anglican|preacher|methodist|deity|faithful|synagogue|temple|church|mosque|sephardic|conservative|pastor|reverend|monk|secular|evangelical|served|Devout|converted|minister/ ]\n",
      "  subject:Person=>nsubj\n",
      "  object:Religion=>amod\n",
      "\n"
     ]
    }
   ],
   "source": [
    "for p, e in zip(out_patterns, out_simple_patterns):\n",
    "    print(f\"; {xml_to_no_annotations(e)}\")\n",
    "    print(f\"; {xml_to_simple(e)}\")\n",
    "    print(p+'\\n')"
   ]
  },
  {
   "cell_type": "code",
   "execution_count": null,
   "metadata": {},
   "outputs": [],
   "source": []
  }
 ],
 "metadata": {
  "kernelspec": {
   "display_name": "Python [conda env:spike_as_package]",
   "language": "python",
   "name": "conda-env-spike_as_package-py"
  },
  "language_info": {
   "codemirror_mode": {
    "name": "ipython",
    "version": 3
   },
   "file_extension": ".py",
   "mimetype": "text/x-python",
   "name": "python",
   "nbconvert_exporter": "python",
   "pygments_lexer": "ipython3",
   "version": "3.7.4"
  }
 },
 "nbformat": 4,
 "nbformat_minor": 2
}
